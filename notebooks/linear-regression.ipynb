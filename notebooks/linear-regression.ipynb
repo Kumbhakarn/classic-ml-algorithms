{
 "cells": [
  {
   "cell_type": "code",
   "execution_count": 1,
   "id": "93b54d66",
   "metadata": {},
   "outputs": [],
   "source": [
    "import pandas as pd\n",
    "import numpy as np\n",
    "\n",
    "from sklearn.linear_model import LinearRegression\n",
    "from sklearn.model_selection import train_test_split\n",
    "\n",
    "from sklearn.metrics import mean_absolute_error, mean_squared_error, r2_score\n",
    "\n",
    "import seaborn as sns\n",
    "import matplotlib.pyplot as plt\n",
    "import os\n",
    "import warnings\n",
    "warnings.filterwarnings('ignore')"
   ]
  },
  {
   "cell_type": "code",
   "execution_count": 2,
   "id": "26afdf16",
   "metadata": {},
   "outputs": [],
   "source": [
    "file_path = r\"D:\\ml-algorithms\\datasets\\autos_dataset.csv\""
   ]
  },
  {
   "cell_type": "code",
   "execution_count": 3,
   "id": "5060e85f",
   "metadata": {},
   "outputs": [
    {
     "data": {
      "text/html": [
       "<div>\n",
       "<style scoped>\n",
       "    .dataframe tbody tr th:only-of-type {\n",
       "        vertical-align: middle;\n",
       "    }\n",
       "\n",
       "    .dataframe tbody tr th {\n",
       "        vertical-align: top;\n",
       "    }\n",
       "\n",
       "    .dataframe thead th {\n",
       "        text-align: right;\n",
       "    }\n",
       "</style>\n",
       "<table border=\"1\" class=\"dataframe\">\n",
       "  <thead>\n",
       "    <tr style=\"text-align: right;\">\n",
       "      <th></th>\n",
       "      <th>symboling</th>\n",
       "      <th>normalized-losses</th>\n",
       "      <th>make</th>\n",
       "      <th>fuel-type</th>\n",
       "      <th>aspiration</th>\n",
       "      <th>num-of-doors</th>\n",
       "      <th>body-style</th>\n",
       "      <th>drive-wheels</th>\n",
       "      <th>engine-location</th>\n",
       "      <th>wheel-base</th>\n",
       "      <th>...</th>\n",
       "      <th>engine-size</th>\n",
       "      <th>fuel-system</th>\n",
       "      <th>bore</th>\n",
       "      <th>stroke</th>\n",
       "      <th>compression-ratio</th>\n",
       "      <th>horsepower</th>\n",
       "      <th>peak-rpm</th>\n",
       "      <th>city-mpg</th>\n",
       "      <th>highway-mpg</th>\n",
       "      <th>price</th>\n",
       "    </tr>\n",
       "  </thead>\n",
       "  <tbody>\n",
       "    <tr>\n",
       "      <th>0</th>\n",
       "      <td>3</td>\n",
       "      <td>?</td>\n",
       "      <td>alfa-romero</td>\n",
       "      <td>gas</td>\n",
       "      <td>std</td>\n",
       "      <td>two</td>\n",
       "      <td>convertible</td>\n",
       "      <td>rwd</td>\n",
       "      <td>front</td>\n",
       "      <td>88.6</td>\n",
       "      <td>...</td>\n",
       "      <td>130</td>\n",
       "      <td>mpfi</td>\n",
       "      <td>3.47</td>\n",
       "      <td>2.68</td>\n",
       "      <td>9.0</td>\n",
       "      <td>111</td>\n",
       "      <td>5000</td>\n",
       "      <td>21</td>\n",
       "      <td>27</td>\n",
       "      <td>13495</td>\n",
       "    </tr>\n",
       "    <tr>\n",
       "      <th>1</th>\n",
       "      <td>3</td>\n",
       "      <td>?</td>\n",
       "      <td>alfa-romero</td>\n",
       "      <td>gas</td>\n",
       "      <td>std</td>\n",
       "      <td>two</td>\n",
       "      <td>convertible</td>\n",
       "      <td>rwd</td>\n",
       "      <td>front</td>\n",
       "      <td>88.6</td>\n",
       "      <td>...</td>\n",
       "      <td>130</td>\n",
       "      <td>mpfi</td>\n",
       "      <td>3.47</td>\n",
       "      <td>2.68</td>\n",
       "      <td>9.0</td>\n",
       "      <td>111</td>\n",
       "      <td>5000</td>\n",
       "      <td>21</td>\n",
       "      <td>27</td>\n",
       "      <td>16500</td>\n",
       "    </tr>\n",
       "    <tr>\n",
       "      <th>2</th>\n",
       "      <td>1</td>\n",
       "      <td>?</td>\n",
       "      <td>alfa-romero</td>\n",
       "      <td>gas</td>\n",
       "      <td>std</td>\n",
       "      <td>two</td>\n",
       "      <td>hatchback</td>\n",
       "      <td>rwd</td>\n",
       "      <td>front</td>\n",
       "      <td>94.5</td>\n",
       "      <td>...</td>\n",
       "      <td>152</td>\n",
       "      <td>mpfi</td>\n",
       "      <td>2.68</td>\n",
       "      <td>3.47</td>\n",
       "      <td>9.0</td>\n",
       "      <td>154</td>\n",
       "      <td>5000</td>\n",
       "      <td>19</td>\n",
       "      <td>26</td>\n",
       "      <td>16500</td>\n",
       "    </tr>\n",
       "    <tr>\n",
       "      <th>3</th>\n",
       "      <td>2</td>\n",
       "      <td>164</td>\n",
       "      <td>audi</td>\n",
       "      <td>gas</td>\n",
       "      <td>std</td>\n",
       "      <td>four</td>\n",
       "      <td>sedan</td>\n",
       "      <td>fwd</td>\n",
       "      <td>front</td>\n",
       "      <td>99.8</td>\n",
       "      <td>...</td>\n",
       "      <td>109</td>\n",
       "      <td>mpfi</td>\n",
       "      <td>3.19</td>\n",
       "      <td>3.4</td>\n",
       "      <td>10.0</td>\n",
       "      <td>102</td>\n",
       "      <td>5500</td>\n",
       "      <td>24</td>\n",
       "      <td>30</td>\n",
       "      <td>13950</td>\n",
       "    </tr>\n",
       "    <tr>\n",
       "      <th>4</th>\n",
       "      <td>2</td>\n",
       "      <td>164</td>\n",
       "      <td>audi</td>\n",
       "      <td>gas</td>\n",
       "      <td>std</td>\n",
       "      <td>four</td>\n",
       "      <td>sedan</td>\n",
       "      <td>4wd</td>\n",
       "      <td>front</td>\n",
       "      <td>99.4</td>\n",
       "      <td>...</td>\n",
       "      <td>136</td>\n",
       "      <td>mpfi</td>\n",
       "      <td>3.19</td>\n",
       "      <td>3.4</td>\n",
       "      <td>8.0</td>\n",
       "      <td>115</td>\n",
       "      <td>5500</td>\n",
       "      <td>18</td>\n",
       "      <td>22</td>\n",
       "      <td>17450</td>\n",
       "    </tr>\n",
       "  </tbody>\n",
       "</table>\n",
       "<p>5 rows × 26 columns</p>\n",
       "</div>"
      ],
      "text/plain": [
       "   symboling normalized-losses         make fuel-type aspiration num-of-doors  \\\n",
       "0          3                 ?  alfa-romero       gas        std          two   \n",
       "1          3                 ?  alfa-romero       gas        std          two   \n",
       "2          1                 ?  alfa-romero       gas        std          two   \n",
       "3          2               164         audi       gas        std         four   \n",
       "4          2               164         audi       gas        std         four   \n",
       "\n",
       "    body-style drive-wheels engine-location  wheel-base  ...  engine-size  \\\n",
       "0  convertible          rwd           front        88.6  ...          130   \n",
       "1  convertible          rwd           front        88.6  ...          130   \n",
       "2    hatchback          rwd           front        94.5  ...          152   \n",
       "3        sedan          fwd           front        99.8  ...          109   \n",
       "4        sedan          4wd           front        99.4  ...          136   \n",
       "\n",
       "   fuel-system  bore  stroke compression-ratio horsepower  peak-rpm city-mpg  \\\n",
       "0         mpfi  3.47    2.68               9.0        111      5000       21   \n",
       "1         mpfi  3.47    2.68               9.0        111      5000       21   \n",
       "2         mpfi  2.68    3.47               9.0        154      5000       19   \n",
       "3         mpfi  3.19     3.4              10.0        102      5500       24   \n",
       "4         mpfi  3.19     3.4               8.0        115      5500       18   \n",
       "\n",
       "  highway-mpg  price  \n",
       "0          27  13495  \n",
       "1          27  16500  \n",
       "2          26  16500  \n",
       "3          30  13950  \n",
       "4          22  17450  \n",
       "\n",
       "[5 rows x 26 columns]"
      ]
     },
     "execution_count": 3,
     "metadata": {},
     "output_type": "execute_result"
    }
   ],
   "source": [
    "df = pd.read_csv(file_path)\n",
    "df.head()"
   ]
  },
  {
   "cell_type": "code",
   "execution_count": 4,
   "id": "501ac425",
   "metadata": {},
   "outputs": [
    {
     "name": "stdout",
     "output_type": "stream",
     "text": [
      "<class 'pandas.core.frame.DataFrame'>\n",
      "RangeIndex: 205 entries, 0 to 204\n",
      "Data columns (total 26 columns):\n",
      " #   Column             Non-Null Count  Dtype  \n",
      "---  ------             --------------  -----  \n",
      " 0   symboling          205 non-null    int64  \n",
      " 1   normalized-losses  205 non-null    object \n",
      " 2   make               205 non-null    object \n",
      " 3   fuel-type          205 non-null    object \n",
      " 4   aspiration         205 non-null    object \n",
      " 5   num-of-doors       205 non-null    object \n",
      " 6   body-style         205 non-null    object \n",
      " 7   drive-wheels       205 non-null    object \n",
      " 8   engine-location    205 non-null    object \n",
      " 9   wheel-base         205 non-null    float64\n",
      " 10  length             205 non-null    float64\n",
      " 11  width              205 non-null    float64\n",
      " 12  height             205 non-null    float64\n",
      " 13  curb-weight        205 non-null    int64  \n",
      " 14  engine-type        205 non-null    object \n",
      " 15  num-of-cylinders   205 non-null    object \n",
      " 16  engine-size        205 non-null    int64  \n",
      " 17  fuel-system        205 non-null    object \n",
      " 18  bore               205 non-null    object \n",
      " 19  stroke             205 non-null    object \n",
      " 20  compression-ratio  205 non-null    float64\n",
      " 21  horsepower         205 non-null    object \n",
      " 22  peak-rpm           205 non-null    object \n",
      " 23  city-mpg           205 non-null    int64  \n",
      " 24  highway-mpg        205 non-null    int64  \n",
      " 25  price              205 non-null    object \n",
      "dtypes: float64(5), int64(5), object(16)\n",
      "memory usage: 41.8+ KB\n"
     ]
    }
   ],
   "source": [
    "df.info()"
   ]
  },
  {
   "cell_type": "code",
   "execution_count": 5,
   "metadata": {},
   "outputs": [
    {
     "data": {
      "text/plain": [
       "Index(['symboling', 'normalized-losses', 'make', 'fuel-type', 'aspiration',\n",
       "       'num-of-doors', 'body-style', 'drive-wheels', 'engine-location',\n",
       "       'wheel-base', 'length', 'width', 'height', 'curb-weight', 'engine-type',\n",
       "       'num-of-cylinders', 'engine-size', 'fuel-system', 'bore', 'stroke',\n",
       "       'compression-ratio', 'horsepower', 'peak-rpm', 'city-mpg',\n",
       "       'highway-mpg', 'price'],\n",
       "      dtype='object')"
      ]
     },
     "execution_count": 5,
     "metadata": {},
     "output_type": "execute_result"
    }
   ],
   "source": [
    "df.columns"
   ]
  },
  {
   "cell_type": "code",
   "execution_count": 6,
   "id": "72d4aedc",
   "metadata": {},
   "outputs": [
    {
     "data": {
      "text/plain": [
       "(205, 26)"
      ]
     },
     "execution_count": 6,
     "metadata": {},
     "output_type": "execute_result"
    }
   ],
   "source": [
    "df.shape"
   ]
  },
  {
   "cell_type": "code",
   "execution_count": 7,
   "id": "0e9d50ac",
   "metadata": {},
   "outputs": [
    {
     "data": {
      "text/plain": [
       "symboling            0\n",
       "normalized-losses    0\n",
       "make                 0\n",
       "fuel-type            0\n",
       "aspiration           0\n",
       "num-of-doors         0\n",
       "body-style           0\n",
       "drive-wheels         0\n",
       "engine-location      0\n",
       "wheel-base           0\n",
       "length               0\n",
       "width                0\n",
       "height               0\n",
       "curb-weight          0\n",
       "engine-type          0\n",
       "num-of-cylinders     0\n",
       "engine-size          0\n",
       "fuel-system          0\n",
       "bore                 0\n",
       "stroke               0\n",
       "compression-ratio    0\n",
       "horsepower           0\n",
       "peak-rpm             0\n",
       "city-mpg             0\n",
       "highway-mpg          0\n",
       "price                0\n",
       "dtype: int64"
      ]
     },
     "execution_count": 7,
     "metadata": {},
     "output_type": "execute_result"
    }
   ],
   "source": [
    "df.isnull().sum()"
   ]
  },
  {
   "cell_type": "markdown",
   "id": "3fc2669f",
   "metadata": {},
   "source": [
    "#### There are Null values preasent in the dataset"
   ]
  },
  {
   "cell_type": "code",
   "execution_count": 8,
   "id": "85baea41",
   "metadata": {},
   "outputs": [
    {
     "data": {
      "text/plain": [
       "symboling             0\n",
       "normalized-losses    41\n",
       "make                  0\n",
       "fuel-type             0\n",
       "aspiration            0\n",
       "num-of-doors          2\n",
       "body-style            0\n",
       "drive-wheels          0\n",
       "engine-location       0\n",
       "wheel-base            0\n",
       "length                0\n",
       "width                 0\n",
       "height                0\n",
       "curb-weight           0\n",
       "engine-type           0\n",
       "num-of-cylinders      0\n",
       "engine-size           0\n",
       "fuel-system           0\n",
       "bore                  4\n",
       "stroke                4\n",
       "compression-ratio     0\n",
       "horsepower            2\n",
       "peak-rpm              2\n",
       "city-mpg              0\n",
       "highway-mpg           0\n",
       "price                 4\n",
       "dtype: int64"
      ]
     },
     "execution_count": 8,
     "metadata": {},
     "output_type": "execute_result"
    }
   ],
   "source": [
    "(df == '?').sum()"
   ]
  },
  {
   "cell_type": "markdown",
   "id": "bc158728",
   "metadata": {},
   "source": [
    "#### replace the `?` with NaN values and then find the percentage of missing values\n",
    " - if missing value is >=25 % it is better to drop such columsn "
   ]
  },
  {
   "cell_type": "code",
   "execution_count": 9,
   "id": "eb6e4d9f",
   "metadata": {},
   "outputs": [],
   "source": [
    "df.replace('?',np.nan,inplace=True)\n",
    "for col in df.columns:\n",
    "    # Try to convert in numeric features\n",
    "    try:\n",
    "        df[col] = pd.to_numeric(df[col])\n",
    "    except:\n",
    "        pass"
   ]
  },
  {
   "cell_type": "code",
   "execution_count": 10,
   "id": "92745115",
   "metadata": {},
   "outputs": [],
   "source": [
    "#  Check the colums are converted into numeric\n",
    "# df.info()"
   ]
  },
  {
   "cell_type": "code",
   "execution_count": 11,
   "id": "8d2f5fa6",
   "metadata": {},
   "outputs": [],
   "source": [
    "### Findout missing value percentage\n",
    "missing_count = df.isnull().sum()\n",
    "missing_percent = (missing_count / len(df)) * 100"
   ]
  },
  {
   "cell_type": "code",
   "execution_count": 12,
   "id": "964e71e9",
   "metadata": {},
   "outputs": [
    {
     "name": "stdout",
     "output_type": "stream",
     "text": [
      "                   Missing_Values  Percentage\n",
      "normalized-losses              41    20.00000\n",
      "num-of-doors                    2     0.97561\n",
      "bore                            4     1.95122\n",
      "stroke                          4     1.95122\n",
      "horsepower                      2     0.97561\n",
      "peak-rpm                        2     0.97561\n",
      "price                           4     1.95122\n"
     ]
    }
   ],
   "source": [
    "missing_info = pd.DataFrame({\n",
    "    'Missing_Values': missing_count,\n",
    "    'Percentage':missing_percent\n",
    "})\n",
    "print(missing_info[missing_info['Missing_Values']>0])"
   ]
  },
  {
   "cell_type": "code",
   "execution_count": 13,
   "id": "83c65aaa",
   "metadata": {},
   "outputs": [],
   "source": [
    "### Check for skewness of this features \n",
    "missing_cols = ['normalized-losses', 'num-of-doors', 'bore', 'stroke', 'horsepower', 'peak-rpm', 'price']"
   ]
  },
  {
   "cell_type": "code",
   "execution_count": 14,
   "id": "e28b3048",
   "metadata": {},
   "outputs": [
    {
     "name": "stdout",
     "output_type": "stream",
     "text": [
      "Skewness of  normalized-losses: 0.77\n",
      "Skipping num-of-doors: Not Numeric column\n",
      "Skewness of  bore: 0.02\n",
      "Skewness of  stroke: -0.68\n",
      "Skewness of  horsepower: 1.39\n",
      "Skewness of  peak-rpm: 0.07\n",
      "Skewness of  price: 1.81\n"
     ]
    }
   ],
   "source": [
    "### Calculate skewness\n",
    "for col in missing_cols:\n",
    "    if pd.api.types.is_numeric_dtype(df[col]):\n",
    "        skew_val = round(df[col].skew(),2)\n",
    "        print(f\"Skewness of  {col}: {skew_val:.2f}\")\n",
    "    else:\n",
    "        print(f\"Skipping {col}: Not Numeric column\")"
   ]
  },
  {
   "cell_type": "markdown",
   "id": "9b830095",
   "metadata": {},
   "source": [
    "- Remove rows where the target column (price) is missing. Do not impute these values. This ensures your model is trained only on real, observed outcomes and maintains the integrity of your analysis."
   ]
  },
  {
   "cell_type": "code",
   "execution_count": 15,
   "metadata": {},
   "outputs": [],
   "source": [
    "## Remove missing values from `price`\n",
    "df.dropna(subset=['price'],inplace=True)"
   ]
  },
  {
   "cell_type": "code",
   "execution_count": 16,
   "id": "cf50ecc7",
   "metadata": {},
   "outputs": [],
   "source": [
    "### fill the missing values in categorical data\n",
    "df['num-of-doors'].fillna(df['num-of-doors'].mode()[0],inplace=True)"
   ]
  },
  {
   "cell_type": "code",
   "execution_count": 17,
   "id": "3d44f2f2",
   "metadata": {},
   "outputs": [],
   "source": [
    "### Fill the missing values in contineous features\n",
    "df['normalized-losses'].fillna(df['normalized-losses'].median(),inplace=True) # 0.77 skewness"
   ]
  },
  {
   "cell_type": "code",
   "execution_count": 18,
   "id": "5ed61993",
   "metadata": {},
   "outputs": [],
   "source": [
    "df['stroke'].fillna(df['stroke'].median(),inplace=True) # -0.68 skewness"
   ]
  },
  {
   "cell_type": "code",
   "execution_count": 19,
   "id": "b5138460",
   "metadata": {},
   "outputs": [],
   "source": [
    "df['horsepower'].fillna(df['horsepower'].median(),inplace=True) # 1.39 skewness"
   ]
  },
  {
   "cell_type": "code",
   "execution_count": 20,
   "id": "5f44978b",
   "metadata": {},
   "outputs": [],
   "source": [
    "df['bore'].fillna(df['bore'].mean(),inplace=True) # 0.02 skewness"
   ]
  },
  {
   "cell_type": "code",
   "execution_count": 21,
   "id": "5936735d",
   "metadata": {},
   "outputs": [],
   "source": [
    "df['peak-rpm'].fillna(df['peak-rpm'].mean(),inplace=True)  # 0.07 skewness"
   ]
  },
  {
   "cell_type": "code",
   "execution_count": 22,
   "id": "b859e4d4",
   "metadata": {},
   "outputs": [],
   "source": [
    "# Check for any missing values\n",
    "# df.isnull().sum()"
   ]
  },
  {
   "cell_type": "code",
   "execution_count": 23,
   "id": "2ec1f715",
   "metadata": {},
   "outputs": [
    {
     "name": "stdout",
     "output_type": "stream",
     "text": [
      "<class 'pandas.core.frame.DataFrame'>\n",
      "Index: 201 entries, 0 to 204\n",
      "Data columns (total 26 columns):\n",
      " #   Column             Non-Null Count  Dtype  \n",
      "---  ------             --------------  -----  \n",
      " 0   symboling          201 non-null    int64  \n",
      " 1   normalized-losses  201 non-null    float64\n",
      " 2   make               201 non-null    object \n",
      " 3   fuel-type          201 non-null    object \n",
      " 4   aspiration         201 non-null    object \n",
      " 5   num-of-doors       201 non-null    object \n",
      " 6   body-style         201 non-null    object \n",
      " 7   drive-wheels       201 non-null    object \n",
      " 8   engine-location    201 non-null    object \n",
      " 9   wheel-base         201 non-null    float64\n",
      " 10  length             201 non-null    float64\n",
      " 11  width              201 non-null    float64\n",
      " 12  height             201 non-null    float64\n",
      " 13  curb-weight        201 non-null    int64  \n",
      " 14  engine-type        201 non-null    object \n",
      " 15  num-of-cylinders   201 non-null    object \n",
      " 16  engine-size        201 non-null    int64  \n",
      " 17  fuel-system        201 non-null    object \n",
      " 18  bore               201 non-null    float64\n",
      " 19  stroke             201 non-null    float64\n",
      " 20  compression-ratio  201 non-null    float64\n",
      " 21  horsepower         201 non-null    float64\n",
      " 22  peak-rpm           201 non-null    float64\n",
      " 23  city-mpg           201 non-null    int64  \n",
      " 24  highway-mpg        201 non-null    int64  \n",
      " 25  price              201 non-null    float64\n",
      "dtypes: float64(11), int64(5), object(10)\n",
      "memory usage: 42.4+ KB\n"
     ]
    }
   ],
   "source": [
    "df.info()"
   ]
  },
  {
   "cell_type": "markdown",
   "id": "47d5e693",
   "metadata": {},
   "source": [
    "### convert these categorical features FIRST"
   ]
  },
  {
   "cell_type": "code",
   "execution_count": 24,
   "id": "fee9c316",
   "metadata": {},
   "outputs": [],
   "source": [
    "### check unique values for each categorical feature\n",
    "\n",
    "categorical_cols = ['make','fuel-type','aspiration','num-of-doors',\n",
    "                    'body-style','drive-wheels','engine-location','engine-type',\n",
    "                    'num-of-cylinders','fuel-system']"
   ]
  },
  {
   "cell_type": "markdown",
   "id": "fa2b834a",
   "metadata": {},
   "source": [
    "- Step 1: Analyze Each Categorical Feature"
   ]
  },
  {
   "cell_type": "code",
   "execution_count": 25,
   "id": "57548ee9",
   "metadata": {},
   "outputs": [
    {
     "name": "stdout",
     "output_type": "stream",
     "text": [
      "\n",
      "make:\n",
      "make\n",
      "toyota           32\n",
      "nissan           18\n",
      "mazda            17\n",
      "mitsubishi       13\n",
      "honda            13\n",
      "subaru           12\n",
      "volkswagen       12\n",
      "volvo            11\n",
      "peugot           11\n",
      "dodge             9\n",
      "mercedes-benz     8\n",
      "bmw               8\n",
      "plymouth          7\n",
      "audi              6\n",
      "saab              6\n",
      "porsche           4\n",
      "chevrolet         3\n",
      "alfa-romero       3\n",
      "jaguar            3\n",
      "isuzu             2\n",
      "renault           2\n",
      "mercury           1\n",
      "Name: count, dtype: int64\n",
      "\n",
      "fuel-type:\n",
      "fuel-type\n",
      "gas       181\n",
      "diesel     20\n",
      "Name: count, dtype: int64\n",
      "\n",
      "aspiration:\n",
      "aspiration\n",
      "std      165\n",
      "turbo     36\n",
      "Name: count, dtype: int64\n",
      "\n",
      "num-of-doors:\n",
      "num-of-doors\n",
      "four    115\n",
      "two      86\n",
      "Name: count, dtype: int64\n",
      "\n",
      "body-style:\n",
      "body-style\n",
      "sedan          94\n",
      "hatchback      68\n",
      "wagon          25\n",
      "hardtop         8\n",
      "convertible     6\n",
      "Name: count, dtype: int64\n",
      "\n",
      "drive-wheels:\n",
      "drive-wheels\n",
      "fwd    118\n",
      "rwd     75\n",
      "4wd      8\n",
      "Name: count, dtype: int64\n",
      "\n",
      "engine-location:\n",
      "engine-location\n",
      "front    198\n",
      "rear       3\n",
      "Name: count, dtype: int64\n",
      "\n",
      "engine-type:\n",
      "engine-type\n",
      "ohc      145\n",
      "ohcf      15\n",
      "ohcv      13\n",
      "dohc      12\n",
      "l         12\n",
      "rotor      4\n",
      "Name: count, dtype: int64\n",
      "\n",
      "num-of-cylinders:\n",
      "num-of-cylinders\n",
      "four      157\n",
      "six        24\n",
      "five       10\n",
      "eight       4\n",
      "two         4\n",
      "twelve      1\n",
      "three       1\n",
      "Name: count, dtype: int64\n",
      "\n",
      "fuel-system:\n",
      "fuel-system\n",
      "mpfi    92\n",
      "2bbl    64\n",
      "idi     20\n",
      "1bbl    11\n",
      "spdi     9\n",
      "4bbl     3\n",
      "mfi      1\n",
      "spfi     1\n",
      "Name: count, dtype: int64\n"
     ]
    }
   ],
   "source": [
    "for col in categorical_cols:\n",
    "    print(f\"\\n{col}:\")\n",
    "    print(df[col].value_counts())"
   ]
  },
  {
   "cell_type": "markdown",
   "id": "cb849047",
   "metadata": {},
   "source": [
    "* Step 2: Choose Appropriate Encoding"
   ]
  },
  {
   "cell_type": "markdown",
   "id": "9e31c886",
   "metadata": {},
   "source": [
    "    - For Ordinal Features (natural ordering):"
   ]
  },
  {
   "cell_type": "code",
   "execution_count": 26,
   "id": "3995dc5f",
   "metadata": {},
   "outputs": [],
   "source": [
    "# num-of-cylinders might be ordinal\n",
    "cylinder_mapping = {'two':2,'three':3,\n",
    "                    'four':4,'five':5,\n",
    "                    'six':6,'eight':8}\n",
    "df['num-of-cylinders'] = df['num-of-cylinders'].map(cylinder_mapping)"
   ]
  },
  {
   "cell_type": "code",
   "execution_count": 27,
   "id": "bb8710a0",
   "metadata": {},
   "outputs": [],
   "source": [
    "### num-of-doors\n",
    "door_mapping = {'tow':2,'four':4}\n",
    "df['num-of-doors'] = df['num-of-doors'].map(door_mapping)"
   ]
  },
  {
   "cell_type": "markdown",
   "id": "6c69b02c",
   "metadata": {},
   "source": [
    "    - For Nominal Features (no natural ordering):"
   ]
  },
  {
   "cell_type": "code",
   "execution_count": 28,
   "id": "fd6f1b70",
   "metadata": {},
   "outputs": [],
   "source": [
    "# Use one-hot encoding for features like make, fuel-type, body-style\n",
    "df = pd.get_dummies(df,columns=['make','fuel-type','aspiration','body-style',\n",
    "'drive-wheels','engine-location','engine-type','fuel-system'],drop_first=True,dtype=int)\n",
    "# Add dtype parameter to get integer values directly"
   ]
  },
  {
   "cell_type": "code",
   "execution_count": 29,
   "id": "89baf85e",
   "metadata": {},
   "outputs": [],
   "source": [
    "# print(df.dtypes)"
   ]
  },
  {
   "cell_type": "markdown",
   "id": "bd11261c",
   "metadata": {},
   "source": [
    "### Handel Skewness & Outliers"
   ]
  },
  {
   "cell_type": "markdown",
   "id": "c050cd92",
   "metadata": {},
   "source": [
    "#### Detect outliers"
   ]
  },
  {
   "cell_type": "markdown",
   "id": "71406a64",
   "metadata": {},
   "source": [
    "    - ONLY continuous features - exclude ordinal/discrete features"
   ]
  },
  {
   "cell_type": "code",
   "execution_count": 30,
   "id": "49eec178",
   "metadata": {},
   "outputs": [],
   "source": [
    "continuous_features = [\n",
    "    'normalized-losses', 'wheel-base', 'length', 'width', \n",
    "    'height', 'curb-weight', 'engine-size', 'bore', 'stroke', \n",
    "    'compression-ratio', 'horsepower', 'peak-rpm', 'city-mpg', 'highway-mpg'\n",
    "]"
   ]
  },
  {
   "cell_type": "code",
   "execution_count": 31,
   "id": "8be5b21e",
   "metadata": {},
   "outputs": [],
   "source": [
    "# Remove any features that don't exist in your dataframe\n",
    "continuous_features = [col for col in continuous_features if col in df.columns]"
   ]
  },
  {
   "cell_type": "code",
   "execution_count": 32,
   "id": "64b6950c",
   "metadata": {},
   "outputs": [
    {
     "name": "stdout",
     "output_type": "stream",
     "text": [
      "Continuous features for outlier detection:\n",
      "['normalized-losses', 'wheel-base', 'length', 'width', 'height', 'curb-weight', 'engine-size', 'bore', 'stroke', 'compression-ratio', 'horsepower', 'peak-rpm', 'city-mpg', 'highway-mpg']\n"
     ]
    }
   ],
   "source": [
    "print(\"Continuous features for outlier detection:\")\n",
    "print(continuous_features)"
   ]
  },
  {
   "cell_type": "code",
   "execution_count": 33,
   "id": "cf8942e9",
   "metadata": {},
   "outputs": [
    {
     "name": "stdout",
     "output_type": "stream",
     "text": [
      "normalized-losses: 8 outliers\n",
      "wheel-base: 3 outliers\n",
      "length: 1 outliers\n",
      "width: 11 outliers\n",
      "height: 0 outliers\n",
      "curb-weight: 2 outliers\n",
      "engine-size: 10 outliers\n",
      "bore: 0 outliers\n",
      "stroke: 20 outliers\n",
      "compression-ratio: 27 outliers\n",
      "horsepower: 5 outliers\n",
      "peak-rpm: 2 outliers\n",
      "city-mpg: 2 outliers\n",
      "highway-mpg: 3 outliers\n",
      "**************************************************\n",
      "Ensure with most-outliers\n",
      "compression-ratio: 27\n",
      "stroke: 20\n",
      "width: 11\n",
      "engine-size: 10\n",
      "normalized-losses: 8\n"
     ]
    }
   ],
   "source": [
    "### Detect outliers\n",
    "outlier_summary = {}\n",
    "\n",
    "for col in continuous_features:\n",
    "\n",
    "    Q1 = df[col].quantile(0.25)\n",
    "    Q3 = df[col].quantile(0.75)\n",
    "\n",
    "    IQR = Q3 - Q1\n",
    "\n",
    "    lower_bound = Q1 - 1.5 * IQR\n",
    "    upper_bound = Q3 + 1.5 * IQR\n",
    "\n",
    "    outliers = (df[col] < lower_bound) | (df[col]>upper_bound)\n",
    "    outlier_count = outliers.sum()\n",
    "    outlier_summary[col] = outlier_count\n",
    "\n",
    "    print(f\"{col}: {outlier_count} outliers\")\n",
    "\n",
    "# Show most problematic features\n",
    "sorted_outliers = sorted(outlier_summary.items(), key=lambda x: x[1],reverse=True)\n",
    "print('*'*50)\n",
    "print(\"Ensure with most-outliers\")\n",
    "for feature,count in sorted_outliers[:5]:\n",
    "    print(f\"{feature}: {count}\")"
   ]
  },
  {
   "cell_type": "markdown",
   "id": "bfceb28b",
   "metadata": {},
   "source": [
    "* Features where outliers might be legitimate (keep them):\n",
    "    - price (expensive luxury cars)\n",
    "    - horsepower (sports cars)\n",
    "    - engine-size (luxury/sports cars)\n",
    "\n",
    "* Features where outliers might be errors (consider capping):\n",
    "    - normalized-losses, compression-ratio"
   ]
  },
  {
   "cell_type": "code",
   "execution_count": 34,
   "id": "b6fbc8d6",
   "metadata": {},
   "outputs": [
    {
     "name": "stdout",
     "output_type": "stream",
     "text": [
      "Features with > 10 outliers: ['width', 'stroke', 'compression-ratio']\n"
     ]
    }
   ],
   "source": [
    "# Set outlier treatment thresholds\n",
    "signiicant_outlier_threshold = 10 # Features with > 10 outliers\n",
    "\n",
    "problematic_features = [col for col, count in  outlier_summary.items() if count > signiicant_outlier_threshold]\n",
    "\n",
    "print(f\"Features with > 10 outliers: {problematic_features}\")"
   ]
  },
  {
   "cell_type": "code",
   "execution_count": null,
   "id": "1f5063d6",
   "metadata": {},
   "outputs": [],
   "source": []
  },
  {
   "cell_type": "code",
   "execution_count": null,
   "id": "8a8be1bb",
   "metadata": {},
   "outputs": [],
   "source": []
  },
  {
   "cell_type": "code",
   "execution_count": null,
   "id": "6dc910cc",
   "metadata": {},
   "outputs": [],
   "source": []
  },
  {
   "cell_type": "code",
   "execution_count": null,
   "id": "b5aac7cf",
   "metadata": {},
   "outputs": [],
   "source": []
  },
  {
   "cell_type": "code",
   "execution_count": null,
   "id": "7d2624d1",
   "metadata": {},
   "outputs": [],
   "source": []
  },
  {
   "cell_type": "code",
   "execution_count": null,
   "id": "69ab637e",
   "metadata": {},
   "outputs": [],
   "source": []
  },
  {
   "cell_type": "code",
   "execution_count": null,
   "id": "6cb5a987",
   "metadata": {},
   "outputs": [],
   "source": []
  },
  {
   "cell_type": "code",
   "execution_count": null,
   "id": "810b21c8",
   "metadata": {},
   "outputs": [],
   "source": []
  }
 ],
 "metadata": {
  "kernelspec": {
   "display_name": "Python 3",
   "language": "python",
   "name": "python3"
  },
  "language_info": {
   "codemirror_mode": {
    "name": "ipython",
    "version": 3
   },
   "file_extension": ".py",
   "mimetype": "text/x-python",
   "name": "python",
   "nbconvert_exporter": "python",
   "pygments_lexer": "ipython3",
   "version": "3.12.0"
  }
 },
 "nbformat": 4,
 "nbformat_minor": 5
}
